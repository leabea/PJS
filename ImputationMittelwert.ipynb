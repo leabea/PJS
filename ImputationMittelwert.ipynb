{
  "nbformat": 4,
  "nbformat_minor": 0,
  "metadata": {
    "colab": {
      "name": "ImputationMittelwert.ipynb",
      "provenance": [],
      "authorship_tag": "ABX9TyN6KMKeqDa6+sZjrIm6W5or",
      "include_colab_link": true
    },
    "kernelspec": {
      "name": "python3",
      "display_name": "Python 3"
    },
    "language_info": {
      "name": "python"
    }
  },
  "cells": [
    {
      "cell_type": "markdown",
      "metadata": {
        "id": "view-in-github",
        "colab_type": "text"
      },
      "source": [
        "<a href=\"https://colab.research.google.com/github/leabea/PJS/blob/main/ImputationMittelwert.ipynb\" target=\"_parent\"><img src=\"https://colab.research.google.com/assets/colab-badge.svg\" alt=\"Open In Colab\"/></a>"
      ]
    },
    {
      "cell_type": "markdown",
      "source": [
        "Dieses Colab Projekt zeigt die Schätzung fehlender Werte in einem Datensatz mithilfe der Imputation durch den Mittelwert.\n",
        "Zunächst wird die Verteilung geplottet."
      ],
      "metadata": {
        "id": "zLUyjSbFjO9J"
      }
    },
    {
      "cell_type": "code",
      "source": [
        "import pandas as pd\n",
        "import matplotlib as plt\n",
        "%matplotlib inline "
      ],
      "metadata": {
        "id": "EBsgomfrja6c"
      },
      "execution_count": null,
      "outputs": []
    },
    {
      "cell_type": "code",
      "source": [
        "dataframe = pd.read_csv('./data/consolidated_coin_data.csv')"
      ],
      "metadata": {
        "id": "gArNnppxj2-o"
      },
      "execution_count": null,
      "outputs": []
    },
    {
      "cell_type": "code",
      "source": [
        "dataframe.dtypes"
      ],
      "metadata": {
        "id": "e7lDFZhoj6Yx"
      },
      "execution_count": null,
      "outputs": []
    },
    {
      "cell_type": "code",
      "source": [
        "print(dataframe.columns)"
      ],
      "metadata": {
        "id": "xyqZvjMHj-Au"
      },
      "execution_count": null,
      "outputs": []
    },
    {
      "cell_type": "code",
      "source": [
        "dataframe['Low']= dataframe.Low.astype(float)"
      ],
      "metadata": {
        "id": "fnG7LzelkDuA"
      },
      "execution_count": null,
      "outputs": []
    },
    {
      "cell_type": "code",
      "source": [
        "dataframe.Low.plot()"
      ],
      "metadata": {
        "id": "TJRkZq6ikKVF"
      },
      "execution_count": null,
      "outputs": []
    },
    {
      "cell_type": "markdown",
      "source": [
        "Jetzt erfolgt die Imputation"
      ],
      "metadata": {
        "id": "OXMR1kZHkTsI"
      }
    },
    {
      "cell_type": "markdown",
      "source": [
        "Jetzt noch die Alternative, dass man die Daten aus einer MySQL-Datenbank zieht"
      ],
      "metadata": {
        "id": "ZXQTvhpbkMTV"
      }
    }
  ]
}